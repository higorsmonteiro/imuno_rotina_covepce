{
 "cells": [
  {
   "cell_type": "markdown",
   "id": "d4881f85",
   "metadata": {},
   "source": [
    "## **Bibliotecas**"
   ]
  },
  {
   "cell_type": "code",
   "execution_count": 17,
   "id": "6e732fe7",
   "metadata": {},
   "outputs": [],
   "source": [
    "from pathlib import Path\n",
    "import yaml\n",
    "import numpy as np\n",
    "import pandas as pd\n",
    "import datetime as dt\n",
    "from dateutil.relativedelta import relativedelta\n",
    "from simpledbf import Dbf5\n",
    "from tqdm import tqdm\n",
    "from collections import defaultdict\n",
    "from sqlalchemy import create_engine\n",
    "\n",
    "from utils.sql_utils import perform_query\n",
    "from data.load_sources import load_sources"
   ]
  },
  {
   "cell_type": "markdown",
   "id": "a81565b6",
   "metadata": {},
   "source": [
    "## **Configuração e Input**\n",
    "\n",
    "Única entrada em que é necessário modificar de rotina para rotina."
   ]
  },
  {
   "cell_type": "code",
   "execution_count": 104,
   "id": "aed009e2",
   "metadata": {},
   "outputs": [],
   "source": [
    "config_path = Path.cwd().joinpath(\"configs\")\n",
    "# -- Essa linha muda de rotina para rotina: deve ser incluída o nome do arquivo de configuração usado para o linkage atual.\n",
    "config_fname = \"base_06mai2025.yml\""
   ]
  },
  {
   "cell_type": "code",
   "execution_count": 105,
   "id": "5f399b5a",
   "metadata": {},
   "outputs": [],
   "source": [
    "with open(config_path.joinpath(config_fname), \"r\") as f:\n",
    "    config = yaml.safe_load(f)\n",
    "\n",
    "database_path = Path(config['database']['path'])\n",
    "database_name = config['database']['name']\n",
    "output_filename = config['database']['excel_name']\n",
    "\n",
    "previous_database_path = Path(config['previous_database']['path'])\n",
    "previous_database_name = config['previous_database']['name']\n",
    "previous_output_filename = config['previous_database']['excel_name']"
   ]
  },
  {
   "cell_type": "markdown",
   "id": "55ae96a2",
   "metadata": {},
   "source": [
    "## **Selecionar pares de registros e criar tabela final**"
   ]
  },
  {
   "cell_type": "code",
   "execution_count": 106,
   "id": "1c955bfe",
   "metadata": {},
   "outputs": [
    {
     "name": "stdout",
     "output_type": "stream",
     "text": [
      "(2296,)\n",
      "(2320, 2)\n"
     ]
    }
   ],
   "source": [
    "engine_url = f\"sqlite:///{database_path.joinpath(database_name)}\"\n",
    "engine = create_engine(engine_url)\n",
    "\n",
    "\n",
    "'''\n",
    "    Regra usada para definir pares que realmente correspondem à mesma pessoa:\n",
    "    Probabilidade do primeiro modelo menor que 0.45 E Probabilidade do terceiro modelo menor que 0.45.\n",
    "    \n",
    "    Outras regras podem ser implementadas, mas isso acarreta em um número diferente de registros \n",
    "    linkados. A regra acima foi testada empiracamente e foi a que retornou maior confiança na qualidade\n",
    "    dos pares gerados.\n",
    "'''\n",
    "q = f'''\n",
    "    SELECT \n",
    "        *\n",
    "    FROM likely_positive_pairs\n",
    "    WHERE PROBA_NEGATIVO_MODELO_1 <= 0.45 AND PROBA_NEGATIVO_MODELO_3 <= 0.45 \n",
    "'''\n",
    "# -- if needed to download data again, uncomment the lines below\n",
    "positive_sd_df = perform_query(q, engine=engine)\n",
    "positive_sd_df[\"SIVEP_ID\"] = positive_sd_df[\"FMT_ID\"].apply(lambda x: x.split(\"-\")[0])\n",
    "positive_sd_df[\"SIM_ID\"] = positive_sd_df[\"FMT_ID\"].apply(lambda x: x.split(\"-\")[1])\n",
    "positive_sd_df[\"Found\"] = [ 'S' for n in range(positive_sd_df.shape[0])  ]\n",
    "print(positive_sd_df[\"SIVEP_ID\"].unique().shape)\n",
    "pairs = positive_sd_df[[\"SIVEP_ID\", \"SIM_ID\"]]\n",
    "positive_sd_df.head(4)\n",
    "\n",
    "# -- pares adicionados manualmente por não serem capturados de maneira apropriada\n",
    "extra_pairs = pd.DataFrame({\n",
    "    \"SIM_ID\": [\"36824355\", \"36854428\"],\n",
    "    \"SIVEP_ID\": [\"31725037750178\", \"31734376382319\"]\n",
    "})\n",
    "pairs = pd.concat([pairs, extra_pairs])\n",
    "\n",
    "# -- regra manual adicionada\n",
    "# ---- 1. remover par (31738027258136, 36854428)\n",
    "remover1 = (pairs[\"SIVEP_ID\"]==\"31738027258136\") & (pairs[\"SIM_ID\"]==\"36854428\")\n",
    "pairs = pairs[~remover1]\n",
    "print(pairs.shape)"
   ]
  },
  {
   "cell_type": "code",
   "execution_count": 107,
   "id": "13133f54",
   "metadata": {},
   "outputs": [
    {
     "name": "stdout",
     "output_type": "stream",
     "text": [
      "SIVEP-GRIPE:\n",
      "\tNo. Registros: 13,743\n",
      "\tNotificação mais antiga: 2023-12-31 00:00:00\n",
      "\tNotificação mais recente: 2025-05-06 00:00:00\n",
      "\n",
      "\tSintoma mais antigo: 2023-12-31 00:00:00\n",
      "\tSintoma mais recente: 2025-05-04 00:00:00\n",
      "\n",
      "SIM:\n",
      "\tNo. Registros: 82,438\n",
      "\tÓbito mais antigo: 2024-01-01 00:00:00\n",
      "\tÓbito mais recente: 2025-04-30 00:00:00\n",
      "\n"
     ]
    }
   ],
   "source": [
    "# -- carregar os dados originais\n",
    "sivep_df, sim_df = load_sources(config)"
   ]
  },
  {
   "cell_type": "markdown",
   "id": "4db0f63e",
   "metadata": {},
   "source": [
    "### **SIM**"
   ]
  },
  {
   "cell_type": "code",
   "execution_count": 108,
   "id": "6e56cd46",
   "metadata": {},
   "outputs": [
    {
     "name": "stdout",
     "output_type": "stream",
     "text": [
      "SIM:\n",
      "Encontrados: 113\n",
      "Não encontrados: 40\n"
     ]
    }
   ],
   "source": [
    "# -- regra SIM: Causa básica B342\n",
    "covid_sim = sim_df[(pd.notna(sim_df[\"CAUSABAS\"])) & (sim_df[\"CAUSABAS\"]==\"B342\")]\n",
    "found_ids = pairs[\"SIM_ID\"].unique()\n",
    "# -- encontados\n",
    "found_covid_sim = covid_sim[covid_sim[\"NUMERODO\"].isin(found_ids)].reset_index(drop=True)\n",
    "# -- não encontrados\n",
    "nofound_covid_sim = covid_sim[~covid_sim[\"NUMERODO\"].isin(found_ids)].reset_index(drop=True)\n",
    "print(\"SIM:\")\n",
    "print(f\"Encontrados: {found_covid_sim.shape[0]}\\nNão encontrados: {nofound_covid_sim.shape[0]}\")"
   ]
  },
  {
   "cell_type": "code",
   "execution_count": 109,
   "id": "2cb01ac0",
   "metadata": {},
   "outputs": [
    {
     "name": "stdout",
     "output_type": "stream",
     "text": [
      "Exemplos entre os encontrados:\n"
     ]
    },
    {
     "data": {
      "application/vnd.microsoft.datawrangler.viewer.v0+json": {
       "columns": [
        {
         "name": "index",
         "rawType": "int64",
         "type": "integer"
        },
        {
         "name": "NUMERODO",
         "rawType": "object",
         "type": "string"
        },
        {
         "name": "DTOBITO",
         "rawType": "datetime64[ns]",
         "type": "datetime"
        },
        {
         "name": "CAUSABAS",
         "rawType": "object",
         "type": "string"
        },
        {
         "name": "CODESTAB",
         "rawType": "object",
         "type": "string"
        },
        {
         "name": "DTNASC",
         "rawType": "datetime64[ns]",
         "type": "datetime"
        },
        {
         "name": "CODMUNRES",
         "rawType": "object",
         "type": "string"
        },
        {
         "name": "BAIRES",
         "rawType": "object",
         "type": "unknown"
        }
       ],
       "conversionMethod": "pd.DataFrame",
       "ref": "b31e5477-e508-41e2-8342-6b40f71d9d78",
       "rows": [
        [
         "0",
         "32908486",
         "2024-05-15 00:00:00",
         "B342",
         "2372568",
         "1949-11-12 00:00:00",
         "230445",
         null
        ],
        [
         "1",
         "32907536",
         "2024-12-13 00:00:00",
         "B342",
         "2372568",
         "1938-04-29 00:00:00",
         "230445",
         null
        ],
        [
         "2",
         "33715176",
         "2024-01-16 00:00:00",
         "B342",
         "2611309",
         "1948-10-12 00:00:00",
         "230540",
         "POSTO CONTINENTAL"
        ],
        [
         "3",
         "35965791",
         "2024-07-20 00:00:00",
         "B342",
         "2372479",
         "1941-06-23 00:00:00",
         "230430",
         "ZONA RURAL"
        ],
        [
         "4",
         "34530024",
         "2024-06-24 00:00:00",
         "B342",
         "2563460",
         "2022-08-03 00:00:00",
         "230425",
         "CAVALO BRAVO"
        ]
       ],
       "shape": {
        "columns": 7,
        "rows": 5
       }
      },
      "text/html": [
       "<div>\n",
       "<style scoped>\n",
       "    .dataframe tbody tr th:only-of-type {\n",
       "        vertical-align: middle;\n",
       "    }\n",
       "\n",
       "    .dataframe tbody tr th {\n",
       "        vertical-align: top;\n",
       "    }\n",
       "\n",
       "    .dataframe thead th {\n",
       "        text-align: right;\n",
       "    }\n",
       "</style>\n",
       "<table border=\"1\" class=\"dataframe\">\n",
       "  <thead>\n",
       "    <tr style=\"text-align: right;\">\n",
       "      <th></th>\n",
       "      <th>NUMERODO</th>\n",
       "      <th>DTOBITO</th>\n",
       "      <th>CAUSABAS</th>\n",
       "      <th>CODESTAB</th>\n",
       "      <th>DTNASC</th>\n",
       "      <th>CODMUNRES</th>\n",
       "      <th>BAIRES</th>\n",
       "    </tr>\n",
       "  </thead>\n",
       "  <tbody>\n",
       "    <tr>\n",
       "      <th>0</th>\n",
       "      <td>32908486</td>\n",
       "      <td>2024-05-15</td>\n",
       "      <td>B342</td>\n",
       "      <td>2372568</td>\n",
       "      <td>1949-11-12</td>\n",
       "      <td>230445</td>\n",
       "      <td>NaN</td>\n",
       "    </tr>\n",
       "    <tr>\n",
       "      <th>1</th>\n",
       "      <td>32907536</td>\n",
       "      <td>2024-12-13</td>\n",
       "      <td>B342</td>\n",
       "      <td>2372568</td>\n",
       "      <td>1938-04-29</td>\n",
       "      <td>230445</td>\n",
       "      <td>NaN</td>\n",
       "    </tr>\n",
       "    <tr>\n",
       "      <th>2</th>\n",
       "      <td>33715176</td>\n",
       "      <td>2024-01-16</td>\n",
       "      <td>B342</td>\n",
       "      <td>2611309</td>\n",
       "      <td>1948-10-12</td>\n",
       "      <td>230540</td>\n",
       "      <td>POSTO CONTINENTAL</td>\n",
       "    </tr>\n",
       "    <tr>\n",
       "      <th>3</th>\n",
       "      <td>35965791</td>\n",
       "      <td>2024-07-20</td>\n",
       "      <td>B342</td>\n",
       "      <td>2372479</td>\n",
       "      <td>1941-06-23</td>\n",
       "      <td>230430</td>\n",
       "      <td>ZONA RURAL</td>\n",
       "    </tr>\n",
       "    <tr>\n",
       "      <th>4</th>\n",
       "      <td>34530024</td>\n",
       "      <td>2024-06-24</td>\n",
       "      <td>B342</td>\n",
       "      <td>2563460</td>\n",
       "      <td>2022-08-03</td>\n",
       "      <td>230425</td>\n",
       "      <td>CAVALO BRAVO</td>\n",
       "    </tr>\n",
       "  </tbody>\n",
       "</table>\n",
       "</div>"
      ],
      "text/plain": [
       "   NUMERODO    DTOBITO CAUSABAS CODESTAB     DTNASC CODMUNRES  \\\n",
       "0  32908486 2024-05-15     B342  2372568 1949-11-12    230445   \n",
       "1  32907536 2024-12-13     B342  2372568 1938-04-29    230445   \n",
       "2  33715176 2024-01-16     B342  2611309 1948-10-12    230540   \n",
       "3  35965791 2024-07-20     B342  2372479 1941-06-23    230430   \n",
       "4  34530024 2024-06-24     B342  2563460 2022-08-03    230425   \n",
       "\n",
       "              BAIRES  \n",
       "0                NaN  \n",
       "1                NaN  \n",
       "2  POSTO CONTINENTAL  \n",
       "3         ZONA RURAL  \n",
       "4       CAVALO BRAVO  "
      ]
     },
     "execution_count": 109,
     "metadata": {},
     "output_type": "execute_result"
    }
   ],
   "source": [
    "print(\"Exemplos entre os encontrados:\")\n",
    "cols = [\"NUMERODO\", \"DTOBITO\", \"CAUSABAS\", \"CODESTAB\", \"DTNASC\", \"CODMUNRES\", \"BAIRES\"]\n",
    "found_covid_sim[cols].head(5)"
   ]
  },
  {
   "cell_type": "code",
   "execution_count": 110,
   "id": "3bcb3750",
   "metadata": {},
   "outputs": [
    {
     "name": "stdout",
     "output_type": "stream",
     "text": [
      "Exemplos entre os não encontrados:\n"
     ]
    },
    {
     "data": {
      "application/vnd.microsoft.datawrangler.viewer.v0+json": {
       "columns": [
        {
         "name": "index",
         "rawType": "int64",
         "type": "integer"
        },
        {
         "name": "NUMERODO",
         "rawType": "object",
         "type": "string"
        },
        {
         "name": "DTOBITO",
         "rawType": "datetime64[ns]",
         "type": "datetime"
        },
        {
         "name": "CAUSABAS",
         "rawType": "object",
         "type": "string"
        },
        {
         "name": "CODESTAB",
         "rawType": "object",
         "type": "string"
        },
        {
         "name": "DTNASC",
         "rawType": "datetime64[ns]",
         "type": "datetime"
        },
        {
         "name": "CODMUNRES",
         "rawType": "object",
         "type": "string"
        },
        {
         "name": "BAIRES",
         "rawType": "object",
         "type": "unknown"
        }
       ],
       "conversionMethod": "pd.DataFrame",
       "ref": "ee71ff8d-7485-46f2-bbe7-35cb725d856c",
       "rows": [
        [
         "0",
         "35960855",
         "2024-01-07 00:00:00",
         "B342",
         "2561069",
         "1931-01-10 00:00:00",
         "230820",
         "ZONA RURAL"
        ],
        [
         "1",
         "36824694",
         "2024-12-21 00:00:00",
         "B342",
         "2561069",
         "1928-02-10 00:00:00",
         "230820",
         "ZONA RURAL"
        ],
        [
         "2",
         "36851481",
         "2024-06-09 00:00:00",
         "B342",
         "2611201",
         "1936-06-08 00:00:00",
         "230185",
         "CENTRO"
        ],
        [
         "3",
         "32908500",
         "2024-12-15 00:00:00",
         "B342",
         "2561042",
         "1946-12-17 00:00:00",
         "230535",
         "REDONDA"
        ],
        [
         "4",
         "35966143",
         "2024-01-01 00:00:00",
         "B342",
         "2561409",
         "1929-08-09 00:00:00",
         "231090",
         null
        ]
       ],
       "shape": {
        "columns": 7,
        "rows": 5
       }
      },
      "text/html": [
       "<div>\n",
       "<style scoped>\n",
       "    .dataframe tbody tr th:only-of-type {\n",
       "        vertical-align: middle;\n",
       "    }\n",
       "\n",
       "    .dataframe tbody tr th {\n",
       "        vertical-align: top;\n",
       "    }\n",
       "\n",
       "    .dataframe thead th {\n",
       "        text-align: right;\n",
       "    }\n",
       "</style>\n",
       "<table border=\"1\" class=\"dataframe\">\n",
       "  <thead>\n",
       "    <tr style=\"text-align: right;\">\n",
       "      <th></th>\n",
       "      <th>NUMERODO</th>\n",
       "      <th>DTOBITO</th>\n",
       "      <th>CAUSABAS</th>\n",
       "      <th>CODESTAB</th>\n",
       "      <th>DTNASC</th>\n",
       "      <th>CODMUNRES</th>\n",
       "      <th>BAIRES</th>\n",
       "    </tr>\n",
       "  </thead>\n",
       "  <tbody>\n",
       "    <tr>\n",
       "      <th>0</th>\n",
       "      <td>35960855</td>\n",
       "      <td>2024-01-07</td>\n",
       "      <td>B342</td>\n",
       "      <td>2561069</td>\n",
       "      <td>1931-01-10</td>\n",
       "      <td>230820</td>\n",
       "      <td>ZONA RURAL</td>\n",
       "    </tr>\n",
       "    <tr>\n",
       "      <th>1</th>\n",
       "      <td>36824694</td>\n",
       "      <td>2024-12-21</td>\n",
       "      <td>B342</td>\n",
       "      <td>2561069</td>\n",
       "      <td>1928-02-10</td>\n",
       "      <td>230820</td>\n",
       "      <td>ZONA RURAL</td>\n",
       "    </tr>\n",
       "    <tr>\n",
       "      <th>2</th>\n",
       "      <td>36851481</td>\n",
       "      <td>2024-06-09</td>\n",
       "      <td>B342</td>\n",
       "      <td>2611201</td>\n",
       "      <td>1936-06-08</td>\n",
       "      <td>230185</td>\n",
       "      <td>CENTRO</td>\n",
       "    </tr>\n",
       "    <tr>\n",
       "      <th>3</th>\n",
       "      <td>32908500</td>\n",
       "      <td>2024-12-15</td>\n",
       "      <td>B342</td>\n",
       "      <td>2561042</td>\n",
       "      <td>1946-12-17</td>\n",
       "      <td>230535</td>\n",
       "      <td>REDONDA</td>\n",
       "    </tr>\n",
       "    <tr>\n",
       "      <th>4</th>\n",
       "      <td>35966143</td>\n",
       "      <td>2024-01-01</td>\n",
       "      <td>B342</td>\n",
       "      <td>2561409</td>\n",
       "      <td>1929-08-09</td>\n",
       "      <td>231090</td>\n",
       "      <td>NaN</td>\n",
       "    </tr>\n",
       "  </tbody>\n",
       "</table>\n",
       "</div>"
      ],
      "text/plain": [
       "   NUMERODO    DTOBITO CAUSABAS CODESTAB     DTNASC CODMUNRES      BAIRES\n",
       "0  35960855 2024-01-07     B342  2561069 1931-01-10    230820  ZONA RURAL\n",
       "1  36824694 2024-12-21     B342  2561069 1928-02-10    230820  ZONA RURAL\n",
       "2  36851481 2024-06-09     B342  2611201 1936-06-08    230185      CENTRO\n",
       "3  32908500 2024-12-15     B342  2561042 1946-12-17    230535     REDONDA\n",
       "4  35966143 2024-01-01     B342  2561409 1929-08-09    231090         NaN"
      ]
     },
     "execution_count": 110,
     "metadata": {},
     "output_type": "execute_result"
    }
   ],
   "source": [
    "print(\"Exemplos entre os não encontrados:\")\n",
    "cols = [\"NUMERODO\", \"DTOBITO\", \"CAUSABAS\", \"CODESTAB\", \"DTNASC\", \"CODMUNRES\", \"BAIRES\"]\n",
    "nofound_covid_sim[cols].head(5)"
   ]
  },
  {
   "cell_type": "markdown",
   "id": "431d070e",
   "metadata": {},
   "source": [
    "### **SIVEP**"
   ]
  },
  {
   "cell_type": "code",
   "execution_count": 111,
   "id": "ded59cfd",
   "metadata": {},
   "outputs": [
    {
     "name": "stdout",
     "output_type": "stream",
     "text": [
      "Entre os que cumpre a regra, total encontrados: 138\n",
      "Entre os que cumprem a regra, total não encontrados: 7\n"
     ]
    }
   ],
   "source": [
    "new_sivep_df2 = sivep_df.copy()\n",
    "# -- se um registro do sivep é linkado com mais de um registro do sim, aqui somente um vai ser escolhido.\n",
    "sivep_to_sim = defaultdict(lambda: np.nan, zip(pairs[\"SIVEP_ID\"], pairs[\"SIM_ID\"]))\n",
    "new_sivep_df2[\"SIM_ID\"] = new_sivep_df2[\"ID\"].map(sivep_to_sim)\n",
    "\n",
    "# -- registros do SIVEP que foram encontrados no SIM (mesma pessoa)\n",
    "sivep_found = new_sivep_df2[pd.notna(new_sivep_df2[\"SIM_ID\"])]\n",
    "# -- registros do SIVEP que não foram encontrados no SIM\n",
    "sivep_nofound = new_sivep_df2[pd.isna(new_sivep_df2[\"SIM_ID\"])]\n",
    "\n",
    "cols_sivep = [\"NU_NOTIFIC\", \"NM_PACIENT\", \"DT_NOTIFIC\", \"DT_SIN_PRI\", \"CO_UNI_NOT\", \"CO_MUN_RES\", \"EVOLUCAO\", \"CLASSI_FIN\", \"CRITERIO\", \"DT_EVOLUCA\", \"PCR_SARS2\", \"RES_AN\", \"PCR_RESUL\"]\n",
    "cols_sim = [\"NUMERODO\", \"NOME\", \"CAUSABAS\", \"LINHAA\", \"LINHAB\", \"LINHAC\", \"LINHAD\", \"LINHAII\", \"DTOBITO\", \"CODMUNRES\", \"CODESTAB\"]\n",
    "\n",
    "linkage = sivep_found.merge(sim_df[cols_sim], left_on=\"SIM_ID\", right_on=\"NUMERODO\", how=\"left\")\n",
    "linkage1 = linkage[cols_sivep+cols_sim]\n",
    "\n",
    "# -- entre os encontrados, aplicar regra: EVOLUCAO '2', CLASSI_FIN '5' E (PCR_SARS2 '1' OU RES_AN '1' OU PCR_RESUL '1')\n",
    "cond_pcr = (pd.notna(linkage1[\"PCR_SARS2\"])) & (linkage1[\"PCR_SARS2\"]=='1')\n",
    "cond_res = (pd.notna(linkage1[\"RES_AN\"])) & (linkage1[\"RES_AN\"]=='1')\n",
    "cond_pcr_resul = (pd.notna(linkage1[\"PCR_RESUL\"])) & (linkage1[\"PCR_RESUL\"]=='1')\n",
    "cond_evol = (pd.notna(linkage1[\"EVOLUCAO\"])) & (linkage1[\"EVOLUCAO\"]=='2')\n",
    "cond_classi = (pd.notna(linkage1[\"CLASSI_FIN\"])) & (linkage1[\"CLASSI_FIN\"]=='5')\n",
    "linkage_sivep_covid = linkage1[((cond_pcr) | (cond_res) | (cond_pcr_resul)) & (cond_evol) & (cond_classi) ]\n",
    "\n",
    "cols_order = [\"NU_NOTIFIC\", \"NUMERODO\"] + cols_sivep[1:] + cols_sim[1:]\n",
    "linkage_sivep_covid = linkage_sivep_covid[cols_order].copy()\n",
    "print(f\"Entre os que cumpre a regra, total encontrados: {linkage_sivep_covid.shape[0]}\")\n",
    "\n",
    "\n",
    "# -- entre os não encontrados, aplicar regra: EVOLUCAO '2', CLASSI_FIN '5' E (PCR_SARS2 '1' OU RES_AN '1' OU PCR_RESUL '1')\n",
    "cond_pcr = (pd.notna(sivep_nofound[\"PCR_SARS2\"])) & (sivep_nofound[\"PCR_SARS2\"]=='1')\n",
    "cond_res = (pd.notna(sivep_nofound[\"RES_AN\"])) & (sivep_nofound[\"RES_AN\"]=='1')\n",
    "cond_pcr_resul = (pd.notna(sivep_nofound[\"PCR_RESUL\"])) & (sivep_nofound[\"PCR_RESUL\"]=='1')\n",
    "cond_evol = (pd.notna(sivep_nofound[\"EVOLUCAO\"])) & (sivep_nofound[\"EVOLUCAO\"]=='2')\n",
    "cond_classi = (pd.notna(sivep_nofound[\"CLASSI_FIN\"])) & (sivep_nofound[\"CLASSI_FIN\"]=='5')\n",
    "linkage_sivep_covid_no_sim = sivep_nofound[((cond_pcr) | (cond_res) | (cond_pcr_resul)) & (cond_evol) & (cond_classi) ]\n",
    "print(f\"Entre os que cumprem a regra, total não encontrados: {linkage_sivep_covid_no_sim.shape[0]}\")"
   ]
  },
  {
   "cell_type": "code",
   "execution_count": 112,
   "id": "fdb5544b",
   "metadata": {},
   "outputs": [
    {
     "name": "stdout",
     "output_type": "stream",
     "text": [
      "Tamanho final de registros: 185\n"
     ]
    },
    {
     "data": {
      "application/vnd.microsoft.datawrangler.viewer.v0+json": {
       "columns": [
        {
         "name": "index",
         "rawType": "int64",
         "type": "integer"
        },
        {
         "name": "NU_NOTIFIC",
         "rawType": "object",
         "type": "string"
        },
        {
         "name": "NUMERODO",
         "rawType": "object",
         "type": "string"
        },
        {
         "name": "NM_PACIENT",
         "rawType": "object",
         "type": "string"
        },
        {
         "name": "DT_NOTIFIC",
         "rawType": "datetime64[ns]",
         "type": "datetime"
        },
        {
         "name": "DT_SIN_PRI",
         "rawType": "datetime64[ns]",
         "type": "datetime"
        },
        {
         "name": "CO_UNI_NOT",
         "rawType": "object",
         "type": "string"
        },
        {
         "name": "CO_MUN_RES",
         "rawType": "object",
         "type": "string"
        },
        {
         "name": "EVOLUCAO",
         "rawType": "object",
         "type": "string"
        },
        {
         "name": "CLASSI_FIN",
         "rawType": "object",
         "type": "string"
        },
        {
         "name": "CRITERIO",
         "rawType": "object",
         "type": "string"
        },
        {
         "name": "DT_EVOLUCA",
         "rawType": "datetime64[ns]",
         "type": "datetime"
        },
        {
         "name": "PCR_SARS2",
         "rawType": "object",
         "type": "unknown"
        },
        {
         "name": "RES_AN",
         "rawType": "object",
         "type": "string"
        },
        {
         "name": "PCR_RESUL",
         "rawType": "object",
         "type": "string"
        },
        {
         "name": "NOME",
         "rawType": "object",
         "type": "string"
        },
        {
         "name": "CAUSABAS",
         "rawType": "object",
         "type": "string"
        },
        {
         "name": "LINHAA",
         "rawType": "object",
         "type": "string"
        },
        {
         "name": "LINHAB",
         "rawType": "object",
         "type": "unknown"
        },
        {
         "name": "LINHAC",
         "rawType": "object",
         "type": "unknown"
        },
        {
         "name": "LINHAD",
         "rawType": "object",
         "type": "unknown"
        },
        {
         "name": "LINHAII",
         "rawType": "object",
         "type": "unknown"
        },
        {
         "name": "DTOBITO",
         "rawType": "datetime64[ns]",
         "type": "datetime"
        },
        {
         "name": "CODMUNRES",
         "rawType": "object",
         "type": "string"
        },
        {
         "name": "CODESTAB",
         "rawType": "object",
         "type": "string"
        },
        {
         "name": "SIM_E_SIVEP",
         "rawType": "object",
         "type": "string"
        },
        {
         "name": "SOMENTE_SIVEP",
         "rawType": "object",
         "type": "string"
        },
        {
         "name": "SOMENTE_SIM",
         "rawType": "object",
         "type": "string"
        }
       ],
       "conversionMethod": "pd.DataFrame",
       "ref": "8a45f174-9bcb-4bd5-993b-af9ed7c4b19d",
       "rows": [
        [
         "2",
         "31704242190717",
         "36815696",
         "ROBERTO GONCALVES MAZZA",
         "2024-01-02 00:00:00",
         "2024-01-01 00:00:00",
         "2806215",
         "230765",
         "2",
         "5",
         "1",
         "2024-01-05 00:00:00",
         "1",
         "2",
         "1",
         "ROBERTO GONCALVES MAZZA",
         "R579",
         "*R579",
         null,
         null,
         null,
         null,
         "2024-01-05 00:00:00",
         "230765",
         "2497654",
         "S",
         "N",
         "N"
        ],
        [
         "4",
         "31704279893164",
         "36802995",
         "SANTIAGO GOMES FERREIRA",
         "2024-01-03 00:00:00",
         "2024-01-02 00:00:00",
         "6779522",
         "230730",
         "2",
         "5",
         "1",
         "2024-01-03 00:00:00",
         null,
         "1",
         "4",
         "SANTIAGO GOMES FERREIRA",
         "I120",
         "*R578",
         "*N188",
         null,
         null,
         "*B342*U071*I10",
         "2024-01-03 00:00:00",
         "230730",
         "6779522",
         "S",
         "N",
         "N"
        ],
        [
         "23",
         "31704456019088",
         "36803351",
         "JULIO CESAR PETRONILO DE MOURA",
         "2024-01-05 00:00:00",
         "2024-01-02 00:00:00",
         "6779522",
         "230830",
         "2",
         "5",
         "1",
         "2024-01-12 00:00:00",
         null,
         "1",
         "4",
         "JULIO CESAR PETRONILO DE MOURA",
         "G809",
         "*J80X",
         "*J180",
         "*G809",
         null,
         "*B342*U071",
         "2024-01-12 00:00:00",
         "230830",
         "6779522",
         "S",
         "N",
         "N"
        ],
        [
         "36",
         "31704799193216",
         "36813964",
         "JOAQUIM FERREIRA LIMA",
         "2024-01-09 00:00:00",
         "2024-01-08 00:00:00",
         "7692595",
         "231270",
         "2",
         "5",
         "1",
         "2024-01-08 00:00:00",
         null,
         "1",
         "5",
         "JOAQUIM FERREIRA LIMA",
         "B342",
         "*A419",
         "*B342*U072",
         null,
         null,
         null,
         "2024-01-08 00:00:00",
         "231270",
         "0086673",
         "S",
         "N",
         "N"
        ]
       ],
       "shape": {
        "columns": 27,
        "rows": 4
       }
      },
      "text/html": [
       "<div>\n",
       "<style scoped>\n",
       "    .dataframe tbody tr th:only-of-type {\n",
       "        vertical-align: middle;\n",
       "    }\n",
       "\n",
       "    .dataframe tbody tr th {\n",
       "        vertical-align: top;\n",
       "    }\n",
       "\n",
       "    .dataframe thead th {\n",
       "        text-align: right;\n",
       "    }\n",
       "</style>\n",
       "<table border=\"1\" class=\"dataframe\">\n",
       "  <thead>\n",
       "    <tr style=\"text-align: right;\">\n",
       "      <th></th>\n",
       "      <th>NU_NOTIFIC</th>\n",
       "      <th>NUMERODO</th>\n",
       "      <th>NM_PACIENT</th>\n",
       "      <th>DT_NOTIFIC</th>\n",
       "      <th>DT_SIN_PRI</th>\n",
       "      <th>CO_UNI_NOT</th>\n",
       "      <th>CO_MUN_RES</th>\n",
       "      <th>EVOLUCAO</th>\n",
       "      <th>CLASSI_FIN</th>\n",
       "      <th>CRITERIO</th>\n",
       "      <th>...</th>\n",
       "      <th>LINHAB</th>\n",
       "      <th>LINHAC</th>\n",
       "      <th>LINHAD</th>\n",
       "      <th>LINHAII</th>\n",
       "      <th>DTOBITO</th>\n",
       "      <th>CODMUNRES</th>\n",
       "      <th>CODESTAB</th>\n",
       "      <th>SIM_E_SIVEP</th>\n",
       "      <th>SOMENTE_SIVEP</th>\n",
       "      <th>SOMENTE_SIM</th>\n",
       "    </tr>\n",
       "  </thead>\n",
       "  <tbody>\n",
       "    <tr>\n",
       "      <th>2</th>\n",
       "      <td>31704242190717</td>\n",
       "      <td>36815696</td>\n",
       "      <td>ROBERTO GONCALVES MAZZA</td>\n",
       "      <td>2024-01-02</td>\n",
       "      <td>2024-01-01</td>\n",
       "      <td>2806215</td>\n",
       "      <td>230765</td>\n",
       "      <td>2</td>\n",
       "      <td>5</td>\n",
       "      <td>1</td>\n",
       "      <td>...</td>\n",
       "      <td>NaN</td>\n",
       "      <td>NaN</td>\n",
       "      <td>NaN</td>\n",
       "      <td>NaN</td>\n",
       "      <td>2024-01-05</td>\n",
       "      <td>230765</td>\n",
       "      <td>2497654</td>\n",
       "      <td>S</td>\n",
       "      <td>N</td>\n",
       "      <td>N</td>\n",
       "    </tr>\n",
       "    <tr>\n",
       "      <th>4</th>\n",
       "      <td>31704279893164</td>\n",
       "      <td>36802995</td>\n",
       "      <td>SANTIAGO GOMES FERREIRA</td>\n",
       "      <td>2024-01-03</td>\n",
       "      <td>2024-01-02</td>\n",
       "      <td>6779522</td>\n",
       "      <td>230730</td>\n",
       "      <td>2</td>\n",
       "      <td>5</td>\n",
       "      <td>1</td>\n",
       "      <td>...</td>\n",
       "      <td>*N188</td>\n",
       "      <td>NaN</td>\n",
       "      <td>NaN</td>\n",
       "      <td>*B342*U071*I10</td>\n",
       "      <td>2024-01-03</td>\n",
       "      <td>230730</td>\n",
       "      <td>6779522</td>\n",
       "      <td>S</td>\n",
       "      <td>N</td>\n",
       "      <td>N</td>\n",
       "    </tr>\n",
       "    <tr>\n",
       "      <th>23</th>\n",
       "      <td>31704456019088</td>\n",
       "      <td>36803351</td>\n",
       "      <td>JULIO CESAR PETRONILO DE MOURA</td>\n",
       "      <td>2024-01-05</td>\n",
       "      <td>2024-01-02</td>\n",
       "      <td>6779522</td>\n",
       "      <td>230830</td>\n",
       "      <td>2</td>\n",
       "      <td>5</td>\n",
       "      <td>1</td>\n",
       "      <td>...</td>\n",
       "      <td>*J180</td>\n",
       "      <td>*G809</td>\n",
       "      <td>NaN</td>\n",
       "      <td>*B342*U071</td>\n",
       "      <td>2024-01-12</td>\n",
       "      <td>230830</td>\n",
       "      <td>6779522</td>\n",
       "      <td>S</td>\n",
       "      <td>N</td>\n",
       "      <td>N</td>\n",
       "    </tr>\n",
       "    <tr>\n",
       "      <th>36</th>\n",
       "      <td>31704799193216</td>\n",
       "      <td>36813964</td>\n",
       "      <td>JOAQUIM FERREIRA LIMA</td>\n",
       "      <td>2024-01-09</td>\n",
       "      <td>2024-01-08</td>\n",
       "      <td>7692595</td>\n",
       "      <td>231270</td>\n",
       "      <td>2</td>\n",
       "      <td>5</td>\n",
       "      <td>1</td>\n",
       "      <td>...</td>\n",
       "      <td>*B342*U072</td>\n",
       "      <td>NaN</td>\n",
       "      <td>NaN</td>\n",
       "      <td>NaN</td>\n",
       "      <td>2024-01-08</td>\n",
       "      <td>231270</td>\n",
       "      <td>0086673</td>\n",
       "      <td>S</td>\n",
       "      <td>N</td>\n",
       "      <td>N</td>\n",
       "    </tr>\n",
       "  </tbody>\n",
       "</table>\n",
       "<p>4 rows × 27 columns</p>\n",
       "</div>"
      ],
      "text/plain": [
       "        NU_NOTIFIC  NUMERODO                      NM_PACIENT DT_NOTIFIC  \\\n",
       "2   31704242190717  36815696         ROBERTO GONCALVES MAZZA 2024-01-02   \n",
       "4   31704279893164  36802995         SANTIAGO GOMES FERREIRA 2024-01-03   \n",
       "23  31704456019088  36803351  JULIO CESAR PETRONILO DE MOURA 2024-01-05   \n",
       "36  31704799193216  36813964           JOAQUIM FERREIRA LIMA 2024-01-09   \n",
       "\n",
       "   DT_SIN_PRI CO_UNI_NOT CO_MUN_RES EVOLUCAO CLASSI_FIN CRITERIO  ...  \\\n",
       "2  2024-01-01    2806215     230765        2          5        1  ...   \n",
       "4  2024-01-02    6779522     230730        2          5        1  ...   \n",
       "23 2024-01-02    6779522     230830        2          5        1  ...   \n",
       "36 2024-01-08    7692595     231270        2          5        1  ...   \n",
       "\n",
       "        LINHAB LINHAC LINHAD         LINHAII    DTOBITO CODMUNRES CODESTAB  \\\n",
       "2          NaN    NaN    NaN             NaN 2024-01-05    230765  2497654   \n",
       "4        *N188    NaN    NaN  *B342*U071*I10 2024-01-03    230730  6779522   \n",
       "23       *J180  *G809    NaN      *B342*U071 2024-01-12    230830  6779522   \n",
       "36  *B342*U072    NaN    NaN             NaN 2024-01-08    231270  0086673   \n",
       "\n",
       "   SIM_E_SIVEP SOMENTE_SIVEP SOMENTE_SIM  \n",
       "2            S             N           N  \n",
       "4            S             N           N  \n",
       "23           S             N           N  \n",
       "36           S             N           N  \n",
       "\n",
       "[4 rows x 27 columns]"
      ]
     },
     "execution_count": 112,
     "metadata": {},
     "output_type": "execute_result"
    }
   ],
   "source": [
    "final_df = pd.concat([linkage_sivep_covid, linkage_sivep_covid_no_sim[cols_sivep]])\n",
    "final_df = pd.concat([final_df, nofound_covid_sim[cols_sim]])\n",
    "\n",
    "final_df[\"SIM_E_SIVEP\"] = final_df[[\"NU_NOTIFIC\", \"NUMERODO\"]].apply(lambda x: 'S' if pd.notna(x[\"NU_NOTIFIC\"]) and pd.notna(x[\"NUMERODO\"]) else 'N', axis=1)\n",
    "final_df[\"SOMENTE_SIVEP\"] = final_df[[\"NU_NOTIFIC\", \"NUMERODO\"]].apply(lambda x: 'S' if pd.notna(x[\"NU_NOTIFIC\"]) and pd.isna(x[\"NUMERODO\"]) else 'N', axis=1)\n",
    "final_df[\"SOMENTE_SIM\"] = final_df[[\"NU_NOTIFIC\", \"NUMERODO\"]].apply(lambda x: 'S' if pd.isna(x[\"NU_NOTIFIC\"]) and pd.notna(x[\"NUMERODO\"]) else 'N', axis=1)\n",
    "\n",
    "print(f\"Tamanho final de registros: {final_df.shape[0]}\")\n",
    "final_df.head(4)"
   ]
  },
  {
   "cell_type": "markdown",
   "id": "46bc64ad",
   "metadata": {},
   "source": [
    "### **Comparar com o linkage anterior**"
   ]
  },
  {
   "cell_type": "code",
   "execution_count": 113,
   "id": "ba08e638",
   "metadata": {},
   "outputs": [],
   "source": [
    "final_df1 = final_df.rename({\"NM_PACIENT\": \"NOME (SIVEP)\", \"NOME\": \"NOME (SIM)\"}, axis=1)\n",
    "#final_df2 = final_df1.copy()#[(final_df1[\"DT_NOTIFIC\"]>=dt.datetime(2024, 1, 1)) | (pd.isna(final_df1[\"DT_NOTIFIC\"]))]\n",
    "#final_df2.to_excel(workpath.joinpath(config['output_filename']))"
   ]
  },
  {
   "cell_type": "code",
   "execution_count": 114,
   "id": "3efb36ad",
   "metadata": {},
   "outputs": [
    {
     "data": {
      "application/vnd.microsoft.datawrangler.viewer.v0+json": {
       "columns": [
        {
         "name": "index",
         "rawType": "int64",
         "type": "integer"
        },
        {
         "name": "NU_NOTIFIC",
         "rawType": "object",
         "type": "string"
        },
        {
         "name": "NUMERODO",
         "rawType": "object",
         "type": "string"
        },
        {
         "name": "DT_NOTIFIC",
         "rawType": "datetime64[ns]",
         "type": "datetime"
        },
        {
         "name": "DT_SIN_PRI",
         "rawType": "datetime64[ns]",
         "type": "datetime"
        },
        {
         "name": "EVOLUCAO",
         "rawType": "float64",
         "type": "float"
        },
        {
         "name": "CLASSI_FIN",
         "rawType": "float64",
         "type": "float"
        },
        {
         "name": "PCR_SARS2",
         "rawType": "float64",
         "type": "float"
        },
        {
         "name": "RES_AN",
         "rawType": "float64",
         "type": "float"
        },
        {
         "name": "PCR_RESUL",
         "rawType": "float64",
         "type": "float"
        },
        {
         "name": "CAUSABAS",
         "rawType": "object",
         "type": "string"
        }
       ],
       "conversionMethod": "pd.DataFrame",
       "ref": "76474b92-e26d-4e20-ae1b-ecc86e4fa57f",
       "rows": [],
       "shape": {
        "columns": 10,
        "rows": 0
       }
      },
      "text/html": [
       "<div>\n",
       "<style scoped>\n",
       "    .dataframe tbody tr th:only-of-type {\n",
       "        vertical-align: middle;\n",
       "    }\n",
       "\n",
       "    .dataframe tbody tr th {\n",
       "        vertical-align: top;\n",
       "    }\n",
       "\n",
       "    .dataframe thead th {\n",
       "        text-align: right;\n",
       "    }\n",
       "</style>\n",
       "<table border=\"1\" class=\"dataframe\">\n",
       "  <thead>\n",
       "    <tr style=\"text-align: right;\">\n",
       "      <th></th>\n",
       "      <th>NU_NOTIFIC</th>\n",
       "      <th>NUMERODO</th>\n",
       "      <th>DT_NOTIFIC</th>\n",
       "      <th>DT_SIN_PRI</th>\n",
       "      <th>EVOLUCAO</th>\n",
       "      <th>CLASSI_FIN</th>\n",
       "      <th>PCR_SARS2</th>\n",
       "      <th>RES_AN</th>\n",
       "      <th>PCR_RESUL</th>\n",
       "      <th>CAUSABAS</th>\n",
       "    </tr>\n",
       "  </thead>\n",
       "  <tbody>\n",
       "  </tbody>\n",
       "</table>\n",
       "</div>"
      ],
      "text/plain": [
       "Empty DataFrame\n",
       "Columns: [NU_NOTIFIC, NUMERODO, DT_NOTIFIC, DT_SIN_PRI, EVOLUCAO, CLASSI_FIN, PCR_SARS2, RES_AN, PCR_RESUL, CAUSABAS]\n",
       "Index: []"
      ]
     },
     "execution_count": 114,
     "metadata": {},
     "output_type": "execute_result"
    }
   ],
   "source": [
    "previous_df = pd.read_excel(previous_database_path.joinpath(previous_output_filename), dtype={\"NU_NOTIFIC\": str, \"NUMERODO\": str}, index_col=0)\n",
    "previous_df[\"KEY\"] = previous_df[\"NU_NOTIFIC\"].astype(str) + previous_df[\"NUMERODO\"].astype(str)\n",
    "\n",
    "final_test = final_df1.copy()\n",
    "final_test[\"KEY\"] = final_test[\"NU_NOTIFIC\"].astype(str) + final_test[\"NUMERODO\"].astype(str)\n",
    "previous_changed_df = previous_df[~previous_df[\"KEY\"].isin(final_test[\"KEY\"])]#[[\"NU_NOTIFIC\", \"NUMERODO\", \"NOME (SIVEP)\", \"DT_NOTIFIC\", \"DT_SIN_PRI\", \"CO_MUN_RES\", \"EVOLUCAO\", \"CLASSI_FIN\"]]\n",
    "previous_changed_df = previous_changed_df[~previous_changed_df[\"NUMERODO\"].isin(final_test[\"NUMERODO\"])]\n",
    "#previous_changed_df = previous_changed_df[~previous_changed_df[\"NUMERODO\"].isin(final_test[\"NUMERODO\"])]\n",
    "\n",
    "cols = [\"NU_NOTIFIC\", \"NUMERODO\", \"DT_NOTIFIC\", \"DT_SIN_PRI\", \"EVOLUCAO\", \"CLASSI_FIN\", \"PCR_SARS2\", \"RES_AN\", \"PCR_RESUL\", \"CAUSABAS\"]\n",
    "previous_changed_df[cols]"
   ]
  },
  {
   "cell_type": "markdown",
   "id": "81759408",
   "metadata": {},
   "source": [
    "#### **Investigação**\n",
    "\n",
    "Se houver registros no linkage anterior que não estão mais presentes no linkage atual, é necessária uma investigação das razões. \n",
    "Abaixo estão algumas possibilidades."
   ]
  },
  {
   "cell_type": "markdown",
   "id": "e67d8880",
   "metadata": {},
   "source": [
    "**Um dos registros não existem mais no banco atualizado**"
   ]
  },
  {
   "cell_type": "code",
   "execution_count": 115,
   "id": "e751ee87",
   "metadata": {},
   "outputs": [],
   "source": [
    "for index, row in previous_changed_df.iterrows():\n",
    "    sivep_id, sim_id = row['NU_NOTIFIC'], row[\"NUMERODO\"]\n",
    "\n",
    "    if sivep_id not in sivep_df[\"NU_NOTIFIC\"].tolist():\n",
    "        print(f\"SIVEP: ID {sivep_id} não está presente na base atualizada\")\n",
    "    else:\n",
    "        print(f\"SIVEP: ID {sivep_id} está presente na base atualizada\")\n",
    "\n",
    "    if sim_id not in sim_df[\"NUMERODO\"].tolist():\n",
    "        print(f\"SIM: ID {sim_id} não está presente na base atualizada\")\n",
    "    else:\n",
    "        print(f\"SIM: ID {sim_id} está presente na base atualizada\")\n",
    "    print(\"\")"
   ]
  },
  {
   "cell_type": "markdown",
   "id": "c01bd86b",
   "metadata": {},
   "source": [
    "**Qual é a causa básica dos óbitos não presentes na base nova e na base antiga?**"
   ]
  },
  {
   "cell_type": "code",
   "execution_count": 116,
   "id": "3acc42f5",
   "metadata": {},
   "outputs": [],
   "source": [
    "for index, row in previous_changed_df.iterrows():\n",
    "    sim_id, causabas = row[\"NUMERODO\"], row[\"CAUSABAS\"]\n",
    "\n",
    "    # -- na base nova\n",
    "    causabas_nova = sim_df[sim_df[\"NUMERODO\"]==sim_id][\"CAUSABAS\"].iat[0]\n",
    "    print(f\"Óbito {sim_id}: Causa {causabas} (antigo) - Causa {causabas_nova} (nova)\")\n"
   ]
  },
  {
   "cell_type": "markdown",
   "id": "72964b6c",
   "metadata": {},
   "source": [
    "**Os registros do sivep não mais presentes tiveram regra de seleção modificadas?**"
   ]
  },
  {
   "cell_type": "code",
   "execution_count": 117,
   "id": "a3544cfe",
   "metadata": {},
   "outputs": [],
   "source": [
    "for index, row in previous_changed_df.iterrows():\n",
    "    sivep_id = row[\"NU_NOTIFIC\"]\n",
    "    # -- valores antigos\n",
    "    evol, classi_fin = row[\"EVOLUCAO\"], row[\"CLASSI_FIN\"]\n",
    "    pcr_sars2, pcr_resul, res_an = row[\"PCR_SARS2\"], row[\"PCR_RESUL\"], row[\"RES_AN\"]\n",
    "\n",
    "    # -- valores novos\n",
    "    sel = sivep_df[sivep_df[\"NU_NOTIFIC\"]==sivep_id]\n",
    "    evol_novo, classi_fin_novo = sel[\"EVOLUCAO\"].iat[0], sel[\"CLASSI_FIN\"].iat[0]\n",
    "    pcr_sars2_novo, pcr_resul_novo, res_an_novo = sel[\"PCR_SARS2\"].iat[0], sel[\"PCR_RESUL\"].iat[0], sel[\"RES_AN\"].iat[0]\n",
    "\n",
    "    print(sivep_id)\n",
    "    print(\"Valores de regra na base antiga:\")\n",
    "    print(f\"EVOL: {evol}, CLASSI_FIN: {classi_fin}\")\n",
    "    print(f\"PCR_SARS2: {pcr_sars2}, PCR_RESUL: {pcr_resul}, RES_AN: {res_an}\")\n",
    "\n",
    "    print(\"Valores de regra na base atualizada:\")\n",
    "    print(f\"EVOL: {evol_novo}, CLASSI_FIN: {classi_fin_novo}\")\n",
    "    print(f\"PCR_SARS2: {pcr_sars2_novo}, PCR_RESUL: {pcr_resul_novo}, RES_AN: {res_an_novo}\")\n",
    "    print(\"\")\n"
   ]
  },
  {
   "cell_type": "markdown",
   "id": "4a8c2920",
   "metadata": {},
   "source": [
    "**Qual é a diferença no nome dos indivíduos?**"
   ]
  },
  {
   "cell_type": "code",
   "execution_count": 118,
   "id": "7a53c525",
   "metadata": {},
   "outputs": [],
   "source": [
    "for index, row in previous_changed_df.iterrows():\n",
    "    sivep_id, sim_id = row['NU_NOTIFIC'], row[\"NUMERODO\"]\n",
    "\n",
    "    # -- nomes no antigo:\n",
    "    print(sivep_id, sim_id)\n",
    "    nome_sivep, nome_sim = row[\"NOME (SIVEP)\"], row[\"NOME (SIM)\"]\n",
    "    print(\"Nomes na base antiga:\")\n",
    "    print(f\"SIVEP: {nome_sivep}\")\n",
    "    print(f\"SIM: {nome_sim}\")\n",
    "\n",
    "    # -- nomes no antigo:\n",
    "    sel_sivep = sivep_df[sivep_df[\"NU_NOTIFIC\"]==sivep_id][\"NM_PACIENT\"].iat[0]\n",
    "    sel_sim = sim_df[sim_df[\"NUMERODO\"]==sim_id][\"NOME\"].iat[0]\n",
    "    print(\"Nomes na base atualizada:\")\n",
    "    print(f\"SIVEP: {sel_sivep}\")\n",
    "    print(f\"SIM: {sel_sim}\")"
   ]
  },
  {
   "cell_type": "markdown",
   "id": "a69473fb",
   "metadata": {},
   "source": [
    "**É possível que um registro do SIVEP foi linkado com mais de uma D.O.?**\n",
    "\n",
    "Aqui, é preciso verificar se a D.O. correta foi escolhida. Senão, é necessário fazer a modificação na primeira célula."
   ]
  },
  {
   "cell_type": "code",
   "execution_count": 119,
   "id": "7d104d29",
   "metadata": {},
   "outputs": [],
   "source": [
    "for index, row in previous_changed_df.iterrows():\n",
    "    sivep_id, sim_id = row['NU_NOTIFIC'], row[\"NUMERODO\"]\n",
    "\n",
    "    obitos_linkados = pairs[pairs[\"SIVEP_ID\"]==sivep_id]\n",
    "    if obitos_linkados.shape[0]>1:\n",
    "        print(f\"Mais de um óbito linkado com o registro {sivep_id}:\")\n",
    "        print(f\"{row['NOME (SIVEP)']}\")\n",
    "        for obito in obitos_linkados[\"SIM_ID\"].tolist():\n",
    "            atual = sim_df[sim_df[\"NUMERODO\"]==obito]\n",
    "            print(f\"\\tD.O. {atual['NUMERODO'].iat[0]}: {atual['NOME'].iat[0]}, {atual['DTNASC'].iat[0]}\")"
   ]
  },
  {
   "cell_type": "markdown",
   "id": "362a46de",
   "metadata": {},
   "source": [
    "## **Salvar arquivo final**"
   ]
  },
  {
   "cell_type": "code",
   "execution_count": 120,
   "id": "10763447",
   "metadata": {},
   "outputs": [],
   "source": [
    "with pd.ExcelWriter(database_path.joinpath(output_filename)) as writer:\n",
    "    final_df1.reset_index(drop=True).to_excel(writer, sheet_name=\"CRUZAMENTO_ATUALIZADO\")  \n",
    "    previous_changed_df.reset_index(drop=True).to_excel(writer, sheet_name=\"ANTIGOS_NAO_SATISFAZEM_MAIS\") "
   ]
  }
 ],
 "metadata": {
  "kernelspec": {
   "display_name": "sesa",
   "language": "python",
   "name": "python3"
  },
  "language_info": {
   "codemirror_mode": {
    "name": "ipython",
    "version": 3
   },
   "file_extension": ".py",
   "mimetype": "text/x-python",
   "name": "python",
   "nbconvert_exporter": "python",
   "pygments_lexer": "ipython3",
   "version": "3.11.9"
  }
 },
 "nbformat": 4,
 "nbformat_minor": 5
}
